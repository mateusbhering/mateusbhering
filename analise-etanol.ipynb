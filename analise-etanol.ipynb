{
 "cells": [
  {
   "cell_type": "code",
   "execution_count": 1,
   "id": "a64052fc",
   "metadata": {
    "_cell_guid": "b1076dfc-b9ad-4769-8c92-a6c4dae69d19",
    "_uuid": "8f2839f25d086af736a60e9eeb907d3b93b6e0e5",
    "execution": {
     "iopub.execute_input": "2022-07-26T15:15:41.618737Z",
     "iopub.status.busy": "2022-07-26T15:15:41.617955Z",
     "iopub.status.idle": "2022-07-26T15:15:41.640969Z",
     "shell.execute_reply": "2022-07-26T15:15:41.639982Z"
    },
    "papermill": {
     "duration": 0.032584,
     "end_time": "2022-07-26T15:15:41.643442",
     "exception": false,
     "start_time": "2022-07-26T15:15:41.610858",
     "status": "completed"
    },
    "tags": []
   },
   "outputs": [
    {
     "name": "stdout",
     "output_type": "stream",
     "text": [
      "/kaggle/input/gas-prices-in-brazil/2004-2021.tsv\n"
     ]
    }
   ],
   "source": [
    "#importando bibliotecas importantes para o projeto \n",
    "import pandas as pd \n",
    "import numpy as np\n",
    "import matplotlib.pyplot as plt\n",
    "\n",
    "# Input data files are available in the read-only \"../input/\" directory\n",
    "# For example, running this (by clicking run or pressing Shift+Enter) will list all files under the input directory\n",
    "\n",
    "import os\n",
    "for dirname, _, filenames in os.walk('/kaggle/input'):\n",
    "    for filename in filenames:\n",
    "        print(os.path.join(dirname, filename))"
   ]
  },
  {
   "cell_type": "code",
   "execution_count": 2,
   "id": "c91541c9",
   "metadata": {
    "execution": {
     "iopub.execute_input": "2022-07-26T15:15:41.654991Z",
     "iopub.status.busy": "2022-07-26T15:15:41.654103Z",
     "iopub.status.idle": "2022-07-26T15:15:42.282422Z",
     "shell.execute_reply": "2022-07-26T15:15:42.281262Z"
    },
    "papermill": {
     "duration": 0.636458,
     "end_time": "2022-07-26T15:15:42.284710",
     "exception": false,
     "start_time": "2022-07-26T15:15:41.648252",
     "status": "completed"
    },
    "tags": []
   },
   "outputs": [
    {
     "data": {
      "text/html": [
       "<div>\n",
       "<style scoped>\n",
       "    .dataframe tbody tr th:only-of-type {\n",
       "        vertical-align: middle;\n",
       "    }\n",
       "\n",
       "    .dataframe tbody tr th {\n",
       "        vertical-align: top;\n",
       "    }\n",
       "\n",
       "    .dataframe thead th {\n",
       "        text-align: right;\n",
       "    }\n",
       "</style>\n",
       "<table border=\"1\" class=\"dataframe\">\n",
       "  <thead>\n",
       "    <tr style=\"text-align: right;\">\n",
       "      <th></th>\n",
       "      <th>DATA INICIAL</th>\n",
       "      <th>DATA FINAL</th>\n",
       "      <th>REGIÃO</th>\n",
       "      <th>ESTADO</th>\n",
       "      <th>PRODUTO</th>\n",
       "      <th>NÚMERO DE POSTOS PESQUISADOS</th>\n",
       "      <th>UNIDADE DE MEDIDA</th>\n",
       "      <th>PREÇO MÉDIO REVENDA</th>\n",
       "      <th>DESVIO PADRÃO REVENDA</th>\n",
       "      <th>PREÇO MÍNIMO REVENDA</th>\n",
       "      <th>PREÇO MÁXIMO REVENDA</th>\n",
       "      <th>MARGEM MÉDIA REVENDA</th>\n",
       "      <th>COEF DE VARIAÇÃO REVENDA</th>\n",
       "      <th>PREÇO MÉDIO DISTRIBUIÇÃO</th>\n",
       "      <th>DESVIO PADRÃO DISTRIBUIÇÃO</th>\n",
       "      <th>PREÇO MÍNIMO DISTRIBUIÇÃO</th>\n",
       "      <th>PREÇO MÁXIMO DISTRIBUIÇÃO</th>\n",
       "      <th>COEF DE VARIAÇÃO DISTRIBUIÇÃO</th>\n",
       "    </tr>\n",
       "  </thead>\n",
       "  <tbody>\n",
       "    <tr>\n",
       "      <th>0</th>\n",
       "      <td>2004-05-09</td>\n",
       "      <td>2004-05-15</td>\n",
       "      <td>CENTRO OESTE</td>\n",
       "      <td>DISTRITO FEDERAL</td>\n",
       "      <td>ETANOL HIDRATADO</td>\n",
       "      <td>127</td>\n",
       "      <td>R$/l</td>\n",
       "      <td>1.288</td>\n",
       "      <td>0.016</td>\n",
       "      <td>1.190</td>\n",
       "      <td>1.350</td>\n",
       "      <td>0.463</td>\n",
       "      <td>0.012</td>\n",
       "      <td>0.825</td>\n",
       "      <td>0.11</td>\n",
       "      <td>0.4201</td>\n",
       "      <td>0.9666</td>\n",
       "      <td>0.133</td>\n",
       "    </tr>\n",
       "    <tr>\n",
       "      <th>1</th>\n",
       "      <td>2004-05-09</td>\n",
       "      <td>2004-05-15</td>\n",
       "      <td>CENTRO OESTE</td>\n",
       "      <td>GOIAS</td>\n",
       "      <td>ETANOL HIDRATADO</td>\n",
       "      <td>387</td>\n",
       "      <td>R$/l</td>\n",
       "      <td>1.162</td>\n",
       "      <td>0.114</td>\n",
       "      <td>0.890</td>\n",
       "      <td>1.449</td>\n",
       "      <td>0.399</td>\n",
       "      <td>0.098</td>\n",
       "      <td>0.763</td>\n",
       "      <td>0.088</td>\n",
       "      <td>0.5013</td>\n",
       "      <td>1.05</td>\n",
       "      <td>0.115</td>\n",
       "    </tr>\n",
       "    <tr>\n",
       "      <th>2</th>\n",
       "      <td>2004-05-09</td>\n",
       "      <td>2004-05-15</td>\n",
       "      <td>CENTRO OESTE</td>\n",
       "      <td>MATO GROSSO</td>\n",
       "      <td>ETANOL HIDRATADO</td>\n",
       "      <td>192</td>\n",
       "      <td>R$/l</td>\n",
       "      <td>1.389</td>\n",
       "      <td>0.097</td>\n",
       "      <td>1.180</td>\n",
       "      <td>1.760</td>\n",
       "      <td>0.419</td>\n",
       "      <td>0.070</td>\n",
       "      <td>0.97</td>\n",
       "      <td>0.095</td>\n",
       "      <td>0.5614</td>\n",
       "      <td>1.161</td>\n",
       "      <td>0.098</td>\n",
       "    </tr>\n",
       "    <tr>\n",
       "      <th>3</th>\n",
       "      <td>2004-05-09</td>\n",
       "      <td>2004-05-15</td>\n",
       "      <td>CENTRO OESTE</td>\n",
       "      <td>MATO GROSSO DO SUL</td>\n",
       "      <td>ETANOL HIDRATADO</td>\n",
       "      <td>162</td>\n",
       "      <td>R$/l</td>\n",
       "      <td>1.262</td>\n",
       "      <td>0.070</td>\n",
       "      <td>1.090</td>\n",
       "      <td>1.509</td>\n",
       "      <td>0.432</td>\n",
       "      <td>0.055</td>\n",
       "      <td>0.83</td>\n",
       "      <td>0.119</td>\n",
       "      <td>0.5991</td>\n",
       "      <td>1.22242</td>\n",
       "      <td>0.143</td>\n",
       "    </tr>\n",
       "    <tr>\n",
       "      <th>4</th>\n",
       "      <td>2004-05-09</td>\n",
       "      <td>2004-05-15</td>\n",
       "      <td>NORDESTE</td>\n",
       "      <td>ALAGOAS</td>\n",
       "      <td>ETANOL HIDRATADO</td>\n",
       "      <td>103</td>\n",
       "      <td>R$/l</td>\n",
       "      <td>1.181</td>\n",
       "      <td>0.078</td>\n",
       "      <td>1.050</td>\n",
       "      <td>1.400</td>\n",
       "      <td>0.24</td>\n",
       "      <td>0.066</td>\n",
       "      <td>0.941</td>\n",
       "      <td>0.077</td>\n",
       "      <td>0.7441</td>\n",
       "      <td>1.0317</td>\n",
       "      <td>0.082</td>\n",
       "    </tr>\n",
       "    <tr>\n",
       "      <th>...</th>\n",
       "      <td>...</td>\n",
       "      <td>...</td>\n",
       "      <td>...</td>\n",
       "      <td>...</td>\n",
       "      <td>...</td>\n",
       "      <td>...</td>\n",
       "      <td>...</td>\n",
       "      <td>...</td>\n",
       "      <td>...</td>\n",
       "      <td>...</td>\n",
       "      <td>...</td>\n",
       "      <td>...</td>\n",
       "      <td>...</td>\n",
       "      <td>...</td>\n",
       "      <td>...</td>\n",
       "      <td>...</td>\n",
       "      <td>...</td>\n",
       "      <td>...</td>\n",
       "    </tr>\n",
       "    <tr>\n",
       "      <th>120818</th>\n",
       "      <td>2021-04-25</td>\n",
       "      <td>2021-05-01</td>\n",
       "      <td>NORTE</td>\n",
       "      <td>RORAIMA</td>\n",
       "      <td>OLEO DIESEL S10</td>\n",
       "      <td>12</td>\n",
       "      <td>R$/l</td>\n",
       "      <td>4.582</td>\n",
       "      <td>0.056</td>\n",
       "      <td>4.510</td>\n",
       "      <td>4.690</td>\n",
       "      <td>-99999.0</td>\n",
       "      <td>0.012</td>\n",
       "      <td>-99999.0</td>\n",
       "      <td>-99999.0</td>\n",
       "      <td>-99999.0</td>\n",
       "      <td>-99999.0</td>\n",
       "      <td>-99999.0</td>\n",
       "    </tr>\n",
       "    <tr>\n",
       "      <th>120819</th>\n",
       "      <td>2021-04-25</td>\n",
       "      <td>2021-05-01</td>\n",
       "      <td>SUL</td>\n",
       "      <td>SANTA CATARINA</td>\n",
       "      <td>OLEO DIESEL S10</td>\n",
       "      <td>100</td>\n",
       "      <td>R$/l</td>\n",
       "      <td>4.141</td>\n",
       "      <td>0.187</td>\n",
       "      <td>3.838</td>\n",
       "      <td>4.739</td>\n",
       "      <td>-99999.0</td>\n",
       "      <td>0.045</td>\n",
       "      <td>-99999.0</td>\n",
       "      <td>-99999.0</td>\n",
       "      <td>-99999.0</td>\n",
       "      <td>-99999.0</td>\n",
       "      <td>-99999.0</td>\n",
       "    </tr>\n",
       "    <tr>\n",
       "      <th>120820</th>\n",
       "      <td>2021-04-25</td>\n",
       "      <td>2021-05-01</td>\n",
       "      <td>SUDESTE</td>\n",
       "      <td>SAO PAULO</td>\n",
       "      <td>OLEO DIESEL S10</td>\n",
       "      <td>886</td>\n",
       "      <td>R$/l</td>\n",
       "      <td>4.246</td>\n",
       "      <td>0.216</td>\n",
       "      <td>3.769</td>\n",
       "      <td>5.199</td>\n",
       "      <td>-99999.0</td>\n",
       "      <td>0.051</td>\n",
       "      <td>-99999.0</td>\n",
       "      <td>-99999.0</td>\n",
       "      <td>-99999.0</td>\n",
       "      <td>-99999.0</td>\n",
       "      <td>-99999.0</td>\n",
       "    </tr>\n",
       "    <tr>\n",
       "      <th>120821</th>\n",
       "      <td>2021-04-25</td>\n",
       "      <td>2021-05-01</td>\n",
       "      <td>NORDESTE</td>\n",
       "      <td>SERGIPE</td>\n",
       "      <td>OLEO DIESEL S10</td>\n",
       "      <td>33</td>\n",
       "      <td>R$/l</td>\n",
       "      <td>4.464</td>\n",
       "      <td>0.205</td>\n",
       "      <td>4.190</td>\n",
       "      <td>4.699</td>\n",
       "      <td>-99999.0</td>\n",
       "      <td>0.046</td>\n",
       "      <td>-99999.0</td>\n",
       "      <td>-99999.0</td>\n",
       "      <td>-99999.0</td>\n",
       "      <td>-99999.0</td>\n",
       "      <td>-99999.0</td>\n",
       "    </tr>\n",
       "    <tr>\n",
       "      <th>120822</th>\n",
       "      <td>2021-04-25</td>\n",
       "      <td>2021-05-01</td>\n",
       "      <td>NORTE</td>\n",
       "      <td>TOCANTINS</td>\n",
       "      <td>OLEO DIESEL S10</td>\n",
       "      <td>18</td>\n",
       "      <td>R$/l</td>\n",
       "      <td>4.352</td>\n",
       "      <td>0.156</td>\n",
       "      <td>4.199</td>\n",
       "      <td>4.699</td>\n",
       "      <td>-99999.0</td>\n",
       "      <td>0.036</td>\n",
       "      <td>-99999.0</td>\n",
       "      <td>-99999.0</td>\n",
       "      <td>-99999.0</td>\n",
       "      <td>-99999.0</td>\n",
       "      <td>-99999.0</td>\n",
       "    </tr>\n",
       "  </tbody>\n",
       "</table>\n",
       "<p>120823 rows × 18 columns</p>\n",
       "</div>"
      ],
      "text/plain": [
       "       DATA INICIAL  DATA FINAL        REGIÃO              ESTADO  \\\n",
       "0        2004-05-09  2004-05-15  CENTRO OESTE    DISTRITO FEDERAL   \n",
       "1        2004-05-09  2004-05-15  CENTRO OESTE               GOIAS   \n",
       "2        2004-05-09  2004-05-15  CENTRO OESTE         MATO GROSSO   \n",
       "3        2004-05-09  2004-05-15  CENTRO OESTE  MATO GROSSO DO SUL   \n",
       "4        2004-05-09  2004-05-15      NORDESTE             ALAGOAS   \n",
       "...             ...         ...           ...                 ...   \n",
       "120818   2021-04-25  2021-05-01         NORTE             RORAIMA   \n",
       "120819   2021-04-25  2021-05-01           SUL      SANTA CATARINA   \n",
       "120820   2021-04-25  2021-05-01       SUDESTE           SAO PAULO   \n",
       "120821   2021-04-25  2021-05-01      NORDESTE             SERGIPE   \n",
       "120822   2021-04-25  2021-05-01         NORTE           TOCANTINS   \n",
       "\n",
       "                 PRODUTO  NÚMERO DE POSTOS PESQUISADOS UNIDADE DE MEDIDA  \\\n",
       "0       ETANOL HIDRATADO                           127              R$/l   \n",
       "1       ETANOL HIDRATADO                           387              R$/l   \n",
       "2       ETANOL HIDRATADO                           192              R$/l   \n",
       "3       ETANOL HIDRATADO                           162              R$/l   \n",
       "4       ETANOL HIDRATADO                           103              R$/l   \n",
       "...                  ...                           ...               ...   \n",
       "120818   OLEO DIESEL S10                            12              R$/l   \n",
       "120819   OLEO DIESEL S10                           100              R$/l   \n",
       "120820   OLEO DIESEL S10                           886              R$/l   \n",
       "120821   OLEO DIESEL S10                            33              R$/l   \n",
       "120822   OLEO DIESEL S10                            18              R$/l   \n",
       "\n",
       "        PREÇO MÉDIO REVENDA  DESVIO PADRÃO REVENDA  PREÇO MÍNIMO REVENDA  \\\n",
       "0                     1.288                  0.016                 1.190   \n",
       "1                     1.162                  0.114                 0.890   \n",
       "2                     1.389                  0.097                 1.180   \n",
       "3                     1.262                  0.070                 1.090   \n",
       "4                     1.181                  0.078                 1.050   \n",
       "...                     ...                    ...                   ...   \n",
       "120818                4.582                  0.056                 4.510   \n",
       "120819                4.141                  0.187                 3.838   \n",
       "120820                4.246                  0.216                 3.769   \n",
       "120821                4.464                  0.205                 4.190   \n",
       "120822                4.352                  0.156                 4.199   \n",
       "\n",
       "        PREÇO MÁXIMO REVENDA MARGEM MÉDIA REVENDA  COEF DE VARIAÇÃO REVENDA  \\\n",
       "0                      1.350                0.463                     0.012   \n",
       "1                      1.449                0.399                     0.098   \n",
       "2                      1.760                0.419                     0.070   \n",
       "3                      1.509                0.432                     0.055   \n",
       "4                      1.400                 0.24                     0.066   \n",
       "...                      ...                  ...                       ...   \n",
       "120818                 4.690             -99999.0                     0.012   \n",
       "120819                 4.739             -99999.0                     0.045   \n",
       "120820                 5.199             -99999.0                     0.051   \n",
       "120821                 4.699             -99999.0                     0.046   \n",
       "120822                 4.699             -99999.0                     0.036   \n",
       "\n",
       "       PREÇO MÉDIO DISTRIBUIÇÃO DESVIO PADRÃO DISTRIBUIÇÃO  \\\n",
       "0                         0.825                       0.11   \n",
       "1                         0.763                      0.088   \n",
       "2                          0.97                      0.095   \n",
       "3                          0.83                      0.119   \n",
       "4                         0.941                      0.077   \n",
       "...                         ...                        ...   \n",
       "120818                 -99999.0                   -99999.0   \n",
       "120819                 -99999.0                   -99999.0   \n",
       "120820                 -99999.0                   -99999.0   \n",
       "120821                 -99999.0                   -99999.0   \n",
       "120822                 -99999.0                   -99999.0   \n",
       "\n",
       "       PREÇO MÍNIMO DISTRIBUIÇÃO PREÇO MÁXIMO DISTRIBUIÇÃO  \\\n",
       "0                         0.4201                    0.9666   \n",
       "1                         0.5013                      1.05   \n",
       "2                         0.5614                     1.161   \n",
       "3                         0.5991                   1.22242   \n",
       "4                         0.7441                    1.0317   \n",
       "...                          ...                       ...   \n",
       "120818                  -99999.0                  -99999.0   \n",
       "120819                  -99999.0                  -99999.0   \n",
       "120820                  -99999.0                  -99999.0   \n",
       "120821                  -99999.0                  -99999.0   \n",
       "120822                  -99999.0                  -99999.0   \n",
       "\n",
       "       COEF DE VARIAÇÃO DISTRIBUIÇÃO  \n",
       "0                              0.133  \n",
       "1                              0.115  \n",
       "2                              0.098  \n",
       "3                              0.143  \n",
       "4                              0.082  \n",
       "...                              ...  \n",
       "120818                      -99999.0  \n",
       "120819                      -99999.0  \n",
       "120820                      -99999.0  \n",
       "120821                      -99999.0  \n",
       "120822                      -99999.0  \n",
       "\n",
       "[120823 rows x 18 columns]"
      ]
     },
     "execution_count": 2,
     "metadata": {},
     "output_type": "execute_result"
    }
   ],
   "source": [
    "#criando dataframe\n",
    "df = pd.read_csv(\"../input/gas-prices-in-brazil/2004-2021.tsv\",sep='\\t',parse_dates = True)\n",
    "df"
   ]
  },
  {
   "cell_type": "code",
   "execution_count": 3,
   "id": "10e8265e",
   "metadata": {
    "execution": {
     "iopub.execute_input": "2022-07-26T15:15:42.297166Z",
     "iopub.status.busy": "2022-07-26T15:15:42.296016Z",
     "iopub.status.idle": "2022-07-26T15:15:42.328436Z",
     "shell.execute_reply": "2022-07-26T15:15:42.327202Z"
    },
    "papermill": {
     "duration": 0.041533,
     "end_time": "2022-07-26T15:15:42.331083",
     "exception": false,
     "start_time": "2022-07-26T15:15:42.289550",
     "status": "completed"
    },
    "tags": []
   },
   "outputs": [
    {
     "data": {
      "text/html": [
       "<div>\n",
       "<style scoped>\n",
       "    .dataframe tbody tr th:only-of-type {\n",
       "        vertical-align: middle;\n",
       "    }\n",
       "\n",
       "    .dataframe tbody tr th {\n",
       "        vertical-align: top;\n",
       "    }\n",
       "\n",
       "    .dataframe thead th {\n",
       "        text-align: right;\n",
       "    }\n",
       "</style>\n",
       "<table border=\"1\" class=\"dataframe\">\n",
       "  <thead>\n",
       "    <tr style=\"text-align: right;\">\n",
       "      <th></th>\n",
       "      <th>DATA INICIAL</th>\n",
       "      <th>REGIÃO</th>\n",
       "      <th>ESTADO</th>\n",
       "      <th>PRODUTO</th>\n",
       "      <th>PREÇO MÉDIO DISTRIBUIÇÃO</th>\n",
       "    </tr>\n",
       "  </thead>\n",
       "  <tbody>\n",
       "    <tr>\n",
       "      <th>0</th>\n",
       "      <td>2004-05-09</td>\n",
       "      <td>CENTRO OESTE</td>\n",
       "      <td>DISTRITO FEDERAL</td>\n",
       "      <td>ETANOL HIDRATADO</td>\n",
       "      <td>0.825</td>\n",
       "    </tr>\n",
       "    <tr>\n",
       "      <th>1</th>\n",
       "      <td>2004-05-09</td>\n",
       "      <td>CENTRO OESTE</td>\n",
       "      <td>GOIAS</td>\n",
       "      <td>ETANOL HIDRATADO</td>\n",
       "      <td>0.763</td>\n",
       "    </tr>\n",
       "    <tr>\n",
       "      <th>2</th>\n",
       "      <td>2004-05-09</td>\n",
       "      <td>CENTRO OESTE</td>\n",
       "      <td>MATO GROSSO</td>\n",
       "      <td>ETANOL HIDRATADO</td>\n",
       "      <td>0.97</td>\n",
       "    </tr>\n",
       "    <tr>\n",
       "      <th>3</th>\n",
       "      <td>2004-05-09</td>\n",
       "      <td>CENTRO OESTE</td>\n",
       "      <td>MATO GROSSO DO SUL</td>\n",
       "      <td>ETANOL HIDRATADO</td>\n",
       "      <td>0.83</td>\n",
       "    </tr>\n",
       "    <tr>\n",
       "      <th>4</th>\n",
       "      <td>2004-05-09</td>\n",
       "      <td>NORDESTE</td>\n",
       "      <td>ALAGOAS</td>\n",
       "      <td>ETANOL HIDRATADO</td>\n",
       "      <td>0.941</td>\n",
       "    </tr>\n",
       "    <tr>\n",
       "      <th>...</th>\n",
       "      <td>...</td>\n",
       "      <td>...</td>\n",
       "      <td>...</td>\n",
       "      <td>...</td>\n",
       "      <td>...</td>\n",
       "    </tr>\n",
       "    <tr>\n",
       "      <th>120818</th>\n",
       "      <td>2021-04-25</td>\n",
       "      <td>NORTE</td>\n",
       "      <td>RORAIMA</td>\n",
       "      <td>OLEO DIESEL S10</td>\n",
       "      <td>-99999.0</td>\n",
       "    </tr>\n",
       "    <tr>\n",
       "      <th>120819</th>\n",
       "      <td>2021-04-25</td>\n",
       "      <td>SUL</td>\n",
       "      <td>SANTA CATARINA</td>\n",
       "      <td>OLEO DIESEL S10</td>\n",
       "      <td>-99999.0</td>\n",
       "    </tr>\n",
       "    <tr>\n",
       "      <th>120820</th>\n",
       "      <td>2021-04-25</td>\n",
       "      <td>SUDESTE</td>\n",
       "      <td>SAO PAULO</td>\n",
       "      <td>OLEO DIESEL S10</td>\n",
       "      <td>-99999.0</td>\n",
       "    </tr>\n",
       "    <tr>\n",
       "      <th>120821</th>\n",
       "      <td>2021-04-25</td>\n",
       "      <td>NORDESTE</td>\n",
       "      <td>SERGIPE</td>\n",
       "      <td>OLEO DIESEL S10</td>\n",
       "      <td>-99999.0</td>\n",
       "    </tr>\n",
       "    <tr>\n",
       "      <th>120822</th>\n",
       "      <td>2021-04-25</td>\n",
       "      <td>NORTE</td>\n",
       "      <td>TOCANTINS</td>\n",
       "      <td>OLEO DIESEL S10</td>\n",
       "      <td>-99999.0</td>\n",
       "    </tr>\n",
       "  </tbody>\n",
       "</table>\n",
       "<p>120823 rows × 5 columns</p>\n",
       "</div>"
      ],
      "text/plain": [
       "       DATA INICIAL        REGIÃO              ESTADO           PRODUTO  \\\n",
       "0        2004-05-09  CENTRO OESTE    DISTRITO FEDERAL  ETANOL HIDRATADO   \n",
       "1        2004-05-09  CENTRO OESTE               GOIAS  ETANOL HIDRATADO   \n",
       "2        2004-05-09  CENTRO OESTE         MATO GROSSO  ETANOL HIDRATADO   \n",
       "3        2004-05-09  CENTRO OESTE  MATO GROSSO DO SUL  ETANOL HIDRATADO   \n",
       "4        2004-05-09      NORDESTE             ALAGOAS  ETANOL HIDRATADO   \n",
       "...             ...           ...                 ...               ...   \n",
       "120818   2021-04-25         NORTE             RORAIMA   OLEO DIESEL S10   \n",
       "120819   2021-04-25           SUL      SANTA CATARINA   OLEO DIESEL S10   \n",
       "120820   2021-04-25       SUDESTE           SAO PAULO   OLEO DIESEL S10   \n",
       "120821   2021-04-25      NORDESTE             SERGIPE   OLEO DIESEL S10   \n",
       "120822   2021-04-25         NORTE           TOCANTINS   OLEO DIESEL S10   \n",
       "\n",
       "       PREÇO MÉDIO DISTRIBUIÇÃO  \n",
       "0                         0.825  \n",
       "1                         0.763  \n",
       "2                          0.97  \n",
       "3                          0.83  \n",
       "4                         0.941  \n",
       "...                         ...  \n",
       "120818                 -99999.0  \n",
       "120819                 -99999.0  \n",
       "120820                 -99999.0  \n",
       "120821                 -99999.0  \n",
       "120822                 -99999.0  \n",
       "\n",
       "[120823 rows x 5 columns]"
      ]
     },
     "execution_count": 3,
     "metadata": {},
     "output_type": "execute_result"
    }
   ],
   "source": [
    "#para simplificar, usarei apenas a data inicial de consulta, a região, produto, e preços de distribuição\n",
    "colunas_a_remover = [1,5,6,7,8,9,10,11,12,14,15,16,17]\n",
    "df.drop(df.columns[colunas_a_remover], axis = 1,inplace=True)\n",
    "df"
   ]
  },
  {
   "cell_type": "code",
   "execution_count": 4,
   "id": "ea119ccb",
   "metadata": {
    "execution": {
     "iopub.execute_input": "2022-07-26T15:15:42.343432Z",
     "iopub.status.busy": "2022-07-26T15:15:42.342385Z",
     "iopub.status.idle": "2022-07-26T15:15:42.391198Z",
     "shell.execute_reply": "2022-07-26T15:15:42.389629Z"
    },
    "papermill": {
     "duration": 0.057715,
     "end_time": "2022-07-26T15:15:42.393905",
     "exception": false,
     "start_time": "2022-07-26T15:15:42.336190",
     "status": "completed"
    },
    "tags": []
   },
   "outputs": [
    {
     "name": "stdout",
     "output_type": "stream",
     "text": [
      "<class 'pandas.core.frame.DataFrame'>\n",
      "RangeIndex: 120823 entries, 0 to 120822\n",
      "Data columns (total 5 columns):\n",
      " #   Column                    Non-Null Count   Dtype \n",
      "---  ------                    --------------   ----- \n",
      " 0   DATA INICIAL              120823 non-null  object\n",
      " 1   REGIÃO                    120823 non-null  object\n",
      " 2   ESTADO                    120823 non-null  object\n",
      " 3   PRODUTO                   120823 non-null  object\n",
      " 4   PREÇO MÉDIO DISTRIBUIÇÃO  120823 non-null  object\n",
      "dtypes: object(5)\n",
      "memory usage: 4.6+ MB\n"
     ]
    }
   ],
   "source": [
    "df.info()\n",
    "#ao chegar o tipo dos dados, percebe-se que o preço está como \"object\" e deveria ser float, então vou transformar."
   ]
  },
  {
   "cell_type": "code",
   "execution_count": 5,
   "id": "751c0370",
   "metadata": {
    "execution": {
     "iopub.execute_input": "2022-07-26T15:15:42.405842Z",
     "iopub.status.busy": "2022-07-26T15:15:42.405428Z",
     "iopub.status.idle": "2022-07-26T15:15:42.478711Z",
     "shell.execute_reply": "2022-07-26T15:15:42.476868Z"
    },
    "papermill": {
     "duration": 0.082447,
     "end_time": "2022-07-26T15:15:42.481473",
     "exception": false,
     "start_time": "2022-07-26T15:15:42.399026",
     "status": "completed"
    },
    "tags": []
   },
   "outputs": [
    {
     "name": "stdout",
     "output_type": "stream",
     "text": [
      "<class 'pandas.core.frame.DataFrame'>\n",
      "RangeIndex: 120823 entries, 0 to 120822\n",
      "Data columns (total 5 columns):\n",
      " #   Column                    Non-Null Count   Dtype  \n",
      "---  ------                    --------------   -----  \n",
      " 0   DATA INICIAL              120823 non-null  object \n",
      " 1   REGIÃO                    120823 non-null  object \n",
      " 2   ESTADO                    120823 non-null  object \n",
      " 3   PRODUTO                   120823 non-null  object \n",
      " 4   PREÇO MÉDIO DISTRIBUIÇÃO  117423 non-null  float64\n",
      "dtypes: float64(1), object(4)\n",
      "memory usage: 4.6+ MB\n"
     ]
    }
   ],
   "source": [
    "#transformando em float\n",
    "\n",
    "for col in [\"PREÇO MÉDIO DISTRIBUIÇÃO\"]:\n",
    "    \n",
    "  df[col] = pd.to_numeric(df[col], errors='coerce')\n",
    "    \n",
    "df.info()"
   ]
  },
  {
   "cell_type": "code",
   "execution_count": 6,
   "id": "ccb1b96f",
   "metadata": {
    "execution": {
     "iopub.execute_input": "2022-07-26T15:15:42.493950Z",
     "iopub.status.busy": "2022-07-26T15:15:42.493574Z",
     "iopub.status.idle": "2022-07-26T15:15:42.520022Z",
     "shell.execute_reply": "2022-07-26T15:15:42.518852Z"
    },
    "papermill": {
     "duration": 0.035454,
     "end_time": "2022-07-26T15:15:42.522255",
     "exception": false,
     "start_time": "2022-07-26T15:15:42.486801",
     "status": "completed"
    },
    "tags": []
   },
   "outputs": [
    {
     "data": {
      "text/html": [
       "<div>\n",
       "<style scoped>\n",
       "    .dataframe tbody tr th:only-of-type {\n",
       "        vertical-align: middle;\n",
       "    }\n",
       "\n",
       "    .dataframe tbody tr th {\n",
       "        vertical-align: top;\n",
       "    }\n",
       "\n",
       "    .dataframe thead th {\n",
       "        text-align: right;\n",
       "    }\n",
       "</style>\n",
       "<table border=\"1\" class=\"dataframe\">\n",
       "  <thead>\n",
       "    <tr style=\"text-align: right;\">\n",
       "      <th></th>\n",
       "      <th>DATA INICIAL</th>\n",
       "      <th>REGIÃO</th>\n",
       "      <th>ESTADO</th>\n",
       "      <th>PRODUTO</th>\n",
       "      <th>PREÇO MÉDIO DISTRIBUIÇÃO</th>\n",
       "    </tr>\n",
       "  </thead>\n",
       "  <tbody>\n",
       "    <tr>\n",
       "      <th>0</th>\n",
       "      <td>2004-05-09</td>\n",
       "      <td>CENTRO OESTE</td>\n",
       "      <td>DISTRITO FEDERAL</td>\n",
       "      <td>ETANOL HIDRATADO</td>\n",
       "      <td>0.825</td>\n",
       "    </tr>\n",
       "    <tr>\n",
       "      <th>1</th>\n",
       "      <td>2004-05-09</td>\n",
       "      <td>CENTRO OESTE</td>\n",
       "      <td>GOIAS</td>\n",
       "      <td>ETANOL HIDRATADO</td>\n",
       "      <td>0.763</td>\n",
       "    </tr>\n",
       "    <tr>\n",
       "      <th>2</th>\n",
       "      <td>2004-05-09</td>\n",
       "      <td>CENTRO OESTE</td>\n",
       "      <td>MATO GROSSO</td>\n",
       "      <td>ETANOL HIDRATADO</td>\n",
       "      <td>0.970</td>\n",
       "    </tr>\n",
       "    <tr>\n",
       "      <th>3</th>\n",
       "      <td>2004-05-09</td>\n",
       "      <td>CENTRO OESTE</td>\n",
       "      <td>MATO GROSSO DO SUL</td>\n",
       "      <td>ETANOL HIDRATADO</td>\n",
       "      <td>0.830</td>\n",
       "    </tr>\n",
       "    <tr>\n",
       "      <th>4</th>\n",
       "      <td>2004-05-09</td>\n",
       "      <td>NORDESTE</td>\n",
       "      <td>ALAGOAS</td>\n",
       "      <td>ETANOL HIDRATADO</td>\n",
       "      <td>0.941</td>\n",
       "    </tr>\n",
       "    <tr>\n",
       "      <th>...</th>\n",
       "      <td>...</td>\n",
       "      <td>...</td>\n",
       "      <td>...</td>\n",
       "      <td>...</td>\n",
       "      <td>...</td>\n",
       "    </tr>\n",
       "    <tr>\n",
       "      <th>115879</th>\n",
       "      <td>2020-08-16</td>\n",
       "      <td>NORTE</td>\n",
       "      <td>RORAIMA</td>\n",
       "      <td>OLEO DIESEL S10</td>\n",
       "      <td>3.109</td>\n",
       "    </tr>\n",
       "    <tr>\n",
       "      <th>115880</th>\n",
       "      <td>2020-08-16</td>\n",
       "      <td>SUL</td>\n",
       "      <td>SANTA CATARINA</td>\n",
       "      <td>OLEO DIESEL S10</td>\n",
       "      <td>2.947</td>\n",
       "    </tr>\n",
       "    <tr>\n",
       "      <th>115881</th>\n",
       "      <td>2020-08-16</td>\n",
       "      <td>SUDESTE</td>\n",
       "      <td>SAO PAULO</td>\n",
       "      <td>OLEO DIESEL S10</td>\n",
       "      <td>2.973</td>\n",
       "    </tr>\n",
       "    <tr>\n",
       "      <th>115882</th>\n",
       "      <td>2020-08-16</td>\n",
       "      <td>NORDESTE</td>\n",
       "      <td>SERGIPE</td>\n",
       "      <td>OLEO DIESEL S10</td>\n",
       "      <td>3.046</td>\n",
       "    </tr>\n",
       "    <tr>\n",
       "      <th>115883</th>\n",
       "      <td>2020-08-16</td>\n",
       "      <td>NORTE</td>\n",
       "      <td>TOCANTINS</td>\n",
       "      <td>OLEO DIESEL S10</td>\n",
       "      <td>3.052</td>\n",
       "    </tr>\n",
       "  </tbody>\n",
       "</table>\n",
       "<p>115315 rows × 5 columns</p>\n",
       "</div>"
      ],
      "text/plain": [
       "       DATA INICIAL        REGIÃO              ESTADO           PRODUTO  \\\n",
       "0        2004-05-09  CENTRO OESTE    DISTRITO FEDERAL  ETANOL HIDRATADO   \n",
       "1        2004-05-09  CENTRO OESTE               GOIAS  ETANOL HIDRATADO   \n",
       "2        2004-05-09  CENTRO OESTE         MATO GROSSO  ETANOL HIDRATADO   \n",
       "3        2004-05-09  CENTRO OESTE  MATO GROSSO DO SUL  ETANOL HIDRATADO   \n",
       "4        2004-05-09      NORDESTE             ALAGOAS  ETANOL HIDRATADO   \n",
       "...             ...           ...                 ...               ...   \n",
       "115879   2020-08-16         NORTE             RORAIMA   OLEO DIESEL S10   \n",
       "115880   2020-08-16           SUL      SANTA CATARINA   OLEO DIESEL S10   \n",
       "115881   2020-08-16       SUDESTE           SAO PAULO   OLEO DIESEL S10   \n",
       "115882   2020-08-16      NORDESTE             SERGIPE   OLEO DIESEL S10   \n",
       "115883   2020-08-16         NORTE           TOCANTINS   OLEO DIESEL S10   \n",
       "\n",
       "        PREÇO MÉDIO DISTRIBUIÇÃO  \n",
       "0                          0.825  \n",
       "1                          0.763  \n",
       "2                          0.970  \n",
       "3                          0.830  \n",
       "4                          0.941  \n",
       "...                          ...  \n",
       "115879                     3.109  \n",
       "115880                     2.947  \n",
       "115881                     2.973  \n",
       "115882                     3.046  \n",
       "115883                     3.052  \n",
       "\n",
       "[115315 rows x 5 columns]"
      ]
     },
     "execution_count": 6,
     "metadata": {},
     "output_type": "execute_result"
    }
   ],
   "source": [
    "#agora temos apenas a data inicial, região, estado, produto e preço médio. Mas tem alguns dados estranhos no preço ex. (-99999), vou remover esses.\n",
    "df.drop(df[(df[\"PREÇO MÉDIO DISTRIBUIÇÃO\"] < 0)].index, inplace=True)\n",
    "df"
   ]
  },
  {
   "cell_type": "code",
   "execution_count": 7,
   "id": "56a562fe",
   "metadata": {
    "execution": {
     "iopub.execute_input": "2022-07-26T15:15:42.534785Z",
     "iopub.status.busy": "2022-07-26T15:15:42.534389Z",
     "iopub.status.idle": "2022-07-26T15:15:42.552134Z",
     "shell.execute_reply": "2022-07-26T15:15:42.550875Z"
    },
    "papermill": {
     "duration": 0.026798,
     "end_time": "2022-07-26T15:15:42.554639",
     "exception": false,
     "start_time": "2022-07-26T15:15:42.527841",
     "status": "completed"
    },
    "tags": []
   },
   "outputs": [
    {
     "data": {
      "text/html": [
       "<div>\n",
       "<style scoped>\n",
       "    .dataframe tbody tr th:only-of-type {\n",
       "        vertical-align: middle;\n",
       "    }\n",
       "\n",
       "    .dataframe tbody tr th {\n",
       "        vertical-align: top;\n",
       "    }\n",
       "\n",
       "    .dataframe thead th {\n",
       "        text-align: right;\n",
       "    }\n",
       "</style>\n",
       "<table border=\"1\" class=\"dataframe\">\n",
       "  <thead>\n",
       "    <tr style=\"text-align: right;\">\n",
       "      <th></th>\n",
       "      <th>DATA</th>\n",
       "      <th>REGIÃO</th>\n",
       "      <th>ESTADO</th>\n",
       "      <th>PRODUTO</th>\n",
       "      <th>PREÇO</th>\n",
       "    </tr>\n",
       "  </thead>\n",
       "  <tbody>\n",
       "    <tr>\n",
       "      <th>0</th>\n",
       "      <td>2004-05-09</td>\n",
       "      <td>CENTRO OESTE</td>\n",
       "      <td>DISTRITO FEDERAL</td>\n",
       "      <td>ETANOL HIDRATADO</td>\n",
       "      <td>0.825</td>\n",
       "    </tr>\n",
       "    <tr>\n",
       "      <th>1</th>\n",
       "      <td>2004-05-09</td>\n",
       "      <td>CENTRO OESTE</td>\n",
       "      <td>GOIAS</td>\n",
       "      <td>ETANOL HIDRATADO</td>\n",
       "      <td>0.763</td>\n",
       "    </tr>\n",
       "    <tr>\n",
       "      <th>2</th>\n",
       "      <td>2004-05-09</td>\n",
       "      <td>CENTRO OESTE</td>\n",
       "      <td>MATO GROSSO</td>\n",
       "      <td>ETANOL HIDRATADO</td>\n",
       "      <td>0.970</td>\n",
       "    </tr>\n",
       "    <tr>\n",
       "      <th>3</th>\n",
       "      <td>2004-05-09</td>\n",
       "      <td>CENTRO OESTE</td>\n",
       "      <td>MATO GROSSO DO SUL</td>\n",
       "      <td>ETANOL HIDRATADO</td>\n",
       "      <td>0.830</td>\n",
       "    </tr>\n",
       "    <tr>\n",
       "      <th>4</th>\n",
       "      <td>2004-05-09</td>\n",
       "      <td>NORDESTE</td>\n",
       "      <td>ALAGOAS</td>\n",
       "      <td>ETANOL HIDRATADO</td>\n",
       "      <td>0.941</td>\n",
       "    </tr>\n",
       "    <tr>\n",
       "      <th>...</th>\n",
       "      <td>...</td>\n",
       "      <td>...</td>\n",
       "      <td>...</td>\n",
       "      <td>...</td>\n",
       "      <td>...</td>\n",
       "    </tr>\n",
       "    <tr>\n",
       "      <th>115879</th>\n",
       "      <td>2020-08-16</td>\n",
       "      <td>NORTE</td>\n",
       "      <td>RORAIMA</td>\n",
       "      <td>OLEO DIESEL S10</td>\n",
       "      <td>3.109</td>\n",
       "    </tr>\n",
       "    <tr>\n",
       "      <th>115880</th>\n",
       "      <td>2020-08-16</td>\n",
       "      <td>SUL</td>\n",
       "      <td>SANTA CATARINA</td>\n",
       "      <td>OLEO DIESEL S10</td>\n",
       "      <td>2.947</td>\n",
       "    </tr>\n",
       "    <tr>\n",
       "      <th>115881</th>\n",
       "      <td>2020-08-16</td>\n",
       "      <td>SUDESTE</td>\n",
       "      <td>SAO PAULO</td>\n",
       "      <td>OLEO DIESEL S10</td>\n",
       "      <td>2.973</td>\n",
       "    </tr>\n",
       "    <tr>\n",
       "      <th>115882</th>\n",
       "      <td>2020-08-16</td>\n",
       "      <td>NORDESTE</td>\n",
       "      <td>SERGIPE</td>\n",
       "      <td>OLEO DIESEL S10</td>\n",
       "      <td>3.046</td>\n",
       "    </tr>\n",
       "    <tr>\n",
       "      <th>115883</th>\n",
       "      <td>2020-08-16</td>\n",
       "      <td>NORTE</td>\n",
       "      <td>TOCANTINS</td>\n",
       "      <td>OLEO DIESEL S10</td>\n",
       "      <td>3.052</td>\n",
       "    </tr>\n",
       "  </tbody>\n",
       "</table>\n",
       "<p>115315 rows × 5 columns</p>\n",
       "</div>"
      ],
      "text/plain": [
       "              DATA        REGIÃO              ESTADO           PRODUTO  PREÇO\n",
       "0       2004-05-09  CENTRO OESTE    DISTRITO FEDERAL  ETANOL HIDRATADO  0.825\n",
       "1       2004-05-09  CENTRO OESTE               GOIAS  ETANOL HIDRATADO  0.763\n",
       "2       2004-05-09  CENTRO OESTE         MATO GROSSO  ETANOL HIDRATADO  0.970\n",
       "3       2004-05-09  CENTRO OESTE  MATO GROSSO DO SUL  ETANOL HIDRATADO  0.830\n",
       "4       2004-05-09      NORDESTE             ALAGOAS  ETANOL HIDRATADO  0.941\n",
       "...            ...           ...                 ...               ...    ...\n",
       "115879  2020-08-16         NORTE             RORAIMA   OLEO DIESEL S10  3.109\n",
       "115880  2020-08-16           SUL      SANTA CATARINA   OLEO DIESEL S10  2.947\n",
       "115881  2020-08-16       SUDESTE           SAO PAULO   OLEO DIESEL S10  2.973\n",
       "115882  2020-08-16      NORDESTE             SERGIPE   OLEO DIESEL S10  3.046\n",
       "115883  2020-08-16         NORTE           TOCANTINS   OLEO DIESEL S10  3.052\n",
       "\n",
       "[115315 rows x 5 columns]"
      ]
     },
     "execution_count": 7,
     "metadata": {},
     "output_type": "execute_result"
    }
   ],
   "source": [
    "#facilitando os nomes\n",
    "df.rename(columns = {'DATA INICIAL':'DATA', 'PREÇO MÉDIO DISTRIBUIÇÃO':'PREÇO'}, inplace = True)\n",
    "df"
   ]
  },
  {
   "cell_type": "code",
   "execution_count": 8,
   "id": "bbc920dc",
   "metadata": {
    "execution": {
     "iopub.execute_input": "2022-07-26T15:15:42.567871Z",
     "iopub.status.busy": "2022-07-26T15:15:42.567447Z",
     "iopub.status.idle": "2022-07-26T15:15:42.595110Z",
     "shell.execute_reply": "2022-07-26T15:15:42.594224Z"
    },
    "papermill": {
     "duration": 0.037064,
     "end_time": "2022-07-26T15:15:42.597278",
     "exception": false,
     "start_time": "2022-07-26T15:15:42.560214",
     "status": "completed"
    },
    "tags": []
   },
   "outputs": [
    {
     "data": {
      "text/html": [
       "<div>\n",
       "<style scoped>\n",
       "    .dataframe tbody tr th:only-of-type {\n",
       "        vertical-align: middle;\n",
       "    }\n",
       "\n",
       "    .dataframe tbody tr th {\n",
       "        vertical-align: top;\n",
       "    }\n",
       "\n",
       "    .dataframe thead th {\n",
       "        text-align: right;\n",
       "    }\n",
       "</style>\n",
       "<table border=\"1\" class=\"dataframe\">\n",
       "  <thead>\n",
       "    <tr style=\"text-align: right;\">\n",
       "      <th></th>\n",
       "      <th>DATA</th>\n",
       "      <th>REGIÃO</th>\n",
       "      <th>ESTADO</th>\n",
       "      <th>PRODUTO</th>\n",
       "      <th>PREÇO</th>\n",
       "    </tr>\n",
       "  </thead>\n",
       "  <tbody>\n",
       "    <tr>\n",
       "      <th>0</th>\n",
       "      <td>2004-05-09</td>\n",
       "      <td>CENTRO OESTE</td>\n",
       "      <td>DISTRITO FEDERAL</td>\n",
       "      <td>ETANOL</td>\n",
       "      <td>0.825</td>\n",
       "    </tr>\n",
       "    <tr>\n",
       "      <th>1</th>\n",
       "      <td>2004-05-09</td>\n",
       "      <td>CENTRO OESTE</td>\n",
       "      <td>GOIAS</td>\n",
       "      <td>ETANOL</td>\n",
       "      <td>0.763</td>\n",
       "    </tr>\n",
       "    <tr>\n",
       "      <th>2</th>\n",
       "      <td>2004-05-09</td>\n",
       "      <td>CENTRO OESTE</td>\n",
       "      <td>MATO GROSSO</td>\n",
       "      <td>ETANOL</td>\n",
       "      <td>0.970</td>\n",
       "    </tr>\n",
       "    <tr>\n",
       "      <th>3</th>\n",
       "      <td>2004-05-09</td>\n",
       "      <td>CENTRO OESTE</td>\n",
       "      <td>MATO GROSSO DO SUL</td>\n",
       "      <td>ETANOL</td>\n",
       "      <td>0.830</td>\n",
       "    </tr>\n",
       "    <tr>\n",
       "      <th>4</th>\n",
       "      <td>2004-05-09</td>\n",
       "      <td>NORDESTE</td>\n",
       "      <td>ALAGOAS</td>\n",
       "      <td>ETANOL</td>\n",
       "      <td>0.941</td>\n",
       "    </tr>\n",
       "    <tr>\n",
       "      <th>...</th>\n",
       "      <td>...</td>\n",
       "      <td>...</td>\n",
       "      <td>...</td>\n",
       "      <td>...</td>\n",
       "      <td>...</td>\n",
       "    </tr>\n",
       "    <tr>\n",
       "      <th>115879</th>\n",
       "      <td>2020-08-16</td>\n",
       "      <td>NORTE</td>\n",
       "      <td>RORAIMA</td>\n",
       "      <td>OLEO DIESEL S10</td>\n",
       "      <td>3.109</td>\n",
       "    </tr>\n",
       "    <tr>\n",
       "      <th>115880</th>\n",
       "      <td>2020-08-16</td>\n",
       "      <td>SUL</td>\n",
       "      <td>SANTA CATARINA</td>\n",
       "      <td>OLEO DIESEL S10</td>\n",
       "      <td>2.947</td>\n",
       "    </tr>\n",
       "    <tr>\n",
       "      <th>115881</th>\n",
       "      <td>2020-08-16</td>\n",
       "      <td>SUDESTE</td>\n",
       "      <td>SAO PAULO</td>\n",
       "      <td>OLEO DIESEL S10</td>\n",
       "      <td>2.973</td>\n",
       "    </tr>\n",
       "    <tr>\n",
       "      <th>115882</th>\n",
       "      <td>2020-08-16</td>\n",
       "      <td>NORDESTE</td>\n",
       "      <td>SERGIPE</td>\n",
       "      <td>OLEO DIESEL S10</td>\n",
       "      <td>3.046</td>\n",
       "    </tr>\n",
       "    <tr>\n",
       "      <th>115883</th>\n",
       "      <td>2020-08-16</td>\n",
       "      <td>NORTE</td>\n",
       "      <td>TOCANTINS</td>\n",
       "      <td>OLEO DIESEL S10</td>\n",
       "      <td>3.052</td>\n",
       "    </tr>\n",
       "  </tbody>\n",
       "</table>\n",
       "<p>115315 rows × 5 columns</p>\n",
       "</div>"
      ],
      "text/plain": [
       "              DATA        REGIÃO              ESTADO          PRODUTO  PREÇO\n",
       "0       2004-05-09  CENTRO OESTE    DISTRITO FEDERAL           ETANOL  0.825\n",
       "1       2004-05-09  CENTRO OESTE               GOIAS           ETANOL  0.763\n",
       "2       2004-05-09  CENTRO OESTE         MATO GROSSO           ETANOL  0.970\n",
       "3       2004-05-09  CENTRO OESTE  MATO GROSSO DO SUL           ETANOL  0.830\n",
       "4       2004-05-09      NORDESTE             ALAGOAS           ETANOL  0.941\n",
       "...            ...           ...                 ...              ...    ...\n",
       "115879  2020-08-16         NORTE             RORAIMA  OLEO DIESEL S10  3.109\n",
       "115880  2020-08-16           SUL      SANTA CATARINA  OLEO DIESEL S10  2.947\n",
       "115881  2020-08-16       SUDESTE           SAO PAULO  OLEO DIESEL S10  2.973\n",
       "115882  2020-08-16      NORDESTE             SERGIPE  OLEO DIESEL S10  3.046\n",
       "115883  2020-08-16         NORTE           TOCANTINS  OLEO DIESEL S10  3.052\n",
       "\n",
       "[115315 rows x 5 columns]"
      ]
     },
     "execution_count": 8,
     "metadata": {},
     "output_type": "execute_result"
    }
   ],
   "source": [
    "#mudando o nome para apenas etanol\n",
    "df['PRODUTO'].replace(['ETANOL HIDRATADO'],'ETANOL', inplace = True)\n",
    "df"
   ]
  },
  {
   "cell_type": "code",
   "execution_count": 9,
   "id": "68665d13",
   "metadata": {
    "execution": {
     "iopub.execute_input": "2022-07-26T15:15:42.611060Z",
     "iopub.status.busy": "2022-07-26T15:15:42.610295Z",
     "iopub.status.idle": "2022-07-26T15:15:42.660560Z",
     "shell.execute_reply": "2022-07-26T15:15:42.659577Z"
    },
    "papermill": {
     "duration": 0.059615,
     "end_time": "2022-07-26T15:15:42.662751",
     "exception": false,
     "start_time": "2022-07-26T15:15:42.603136",
     "status": "completed"
    },
    "tags": []
   },
   "outputs": [
    {
     "data": {
      "text/html": [
       "<div>\n",
       "<style scoped>\n",
       "    .dataframe tbody tr th:only-of-type {\n",
       "        vertical-align: middle;\n",
       "    }\n",
       "\n",
       "    .dataframe tbody tr th {\n",
       "        vertical-align: top;\n",
       "    }\n",
       "\n",
       "    .dataframe thead th {\n",
       "        text-align: right;\n",
       "    }\n",
       "</style>\n",
       "<table border=\"1\" class=\"dataframe\">\n",
       "  <thead>\n",
       "    <tr style=\"text-align: right;\">\n",
       "      <th></th>\n",
       "      <th>DATA</th>\n",
       "      <th>REGIÃO</th>\n",
       "      <th>ESTADO</th>\n",
       "      <th>PRODUTO</th>\n",
       "      <th>PREÇO</th>\n",
       "    </tr>\n",
       "  </thead>\n",
       "  <tbody>\n",
       "    <tr>\n",
       "      <th>0</th>\n",
       "      <td>2004-05-09</td>\n",
       "      <td>CENTRO OESTE</td>\n",
       "      <td>DISTRITO FEDERAL</td>\n",
       "      <td>ETANOL</td>\n",
       "      <td>0.825</td>\n",
       "    </tr>\n",
       "    <tr>\n",
       "      <th>1</th>\n",
       "      <td>2004-05-09</td>\n",
       "      <td>CENTRO OESTE</td>\n",
       "      <td>GOIAS</td>\n",
       "      <td>ETANOL</td>\n",
       "      <td>0.763</td>\n",
       "    </tr>\n",
       "    <tr>\n",
       "      <th>2</th>\n",
       "      <td>2004-05-09</td>\n",
       "      <td>CENTRO OESTE</td>\n",
       "      <td>MATO GROSSO</td>\n",
       "      <td>ETANOL</td>\n",
       "      <td>0.970</td>\n",
       "    </tr>\n",
       "    <tr>\n",
       "      <th>3</th>\n",
       "      <td>2004-05-09</td>\n",
       "      <td>CENTRO OESTE</td>\n",
       "      <td>MATO GROSSO DO SUL</td>\n",
       "      <td>ETANOL</td>\n",
       "      <td>0.830</td>\n",
       "    </tr>\n",
       "    <tr>\n",
       "      <th>4</th>\n",
       "      <td>2004-05-09</td>\n",
       "      <td>NORDESTE</td>\n",
       "      <td>ALAGOAS</td>\n",
       "      <td>ETANOL</td>\n",
       "      <td>0.941</td>\n",
       "    </tr>\n",
       "    <tr>\n",
       "      <th>...</th>\n",
       "      <td>...</td>\n",
       "      <td>...</td>\n",
       "      <td>...</td>\n",
       "      <td>...</td>\n",
       "      <td>...</td>\n",
       "    </tr>\n",
       "    <tr>\n",
       "      <th>115754</th>\n",
       "      <td>2020-08-16</td>\n",
       "      <td>NORTE</td>\n",
       "      <td>RORAIMA</td>\n",
       "      <td>ETANOL</td>\n",
       "      <td>2.974</td>\n",
       "    </tr>\n",
       "    <tr>\n",
       "      <th>115755</th>\n",
       "      <td>2020-08-16</td>\n",
       "      <td>SUL</td>\n",
       "      <td>SANTA CATARINA</td>\n",
       "      <td>ETANOL</td>\n",
       "      <td>2.916</td>\n",
       "    </tr>\n",
       "    <tr>\n",
       "      <th>115756</th>\n",
       "      <td>2020-08-16</td>\n",
       "      <td>SUDESTE</td>\n",
       "      <td>SAO PAULO</td>\n",
       "      <td>ETANOL</td>\n",
       "      <td>2.236</td>\n",
       "    </tr>\n",
       "    <tr>\n",
       "      <th>115757</th>\n",
       "      <td>2020-08-16</td>\n",
       "      <td>NORDESTE</td>\n",
       "      <td>SERGIPE</td>\n",
       "      <td>ETANOL</td>\n",
       "      <td>2.883</td>\n",
       "    </tr>\n",
       "    <tr>\n",
       "      <th>115758</th>\n",
       "      <td>2020-08-16</td>\n",
       "      <td>NORTE</td>\n",
       "      <td>TOCANTINS</td>\n",
       "      <td>ETANOL</td>\n",
       "      <td>3.036</td>\n",
       "    </tr>\n",
       "  </tbody>\n",
       "</table>\n",
       "<p>22595 rows × 5 columns</p>\n",
       "</div>"
      ],
      "text/plain": [
       "              DATA        REGIÃO              ESTADO PRODUTO  PREÇO\n",
       "0       2004-05-09  CENTRO OESTE    DISTRITO FEDERAL  ETANOL  0.825\n",
       "1       2004-05-09  CENTRO OESTE               GOIAS  ETANOL  0.763\n",
       "2       2004-05-09  CENTRO OESTE         MATO GROSSO  ETANOL  0.970\n",
       "3       2004-05-09  CENTRO OESTE  MATO GROSSO DO SUL  ETANOL  0.830\n",
       "4       2004-05-09      NORDESTE             ALAGOAS  ETANOL  0.941\n",
       "...            ...           ...                 ...     ...    ...\n",
       "115754  2020-08-16         NORTE             RORAIMA  ETANOL  2.974\n",
       "115755  2020-08-16           SUL      SANTA CATARINA  ETANOL  2.916\n",
       "115756  2020-08-16       SUDESTE           SAO PAULO  ETANOL  2.236\n",
       "115757  2020-08-16      NORDESTE             SERGIPE  ETANOL  2.883\n",
       "115758  2020-08-16         NORTE           TOCANTINS  ETANOL  3.036\n",
       "\n",
       "[22595 rows x 5 columns]"
      ]
     },
     "execution_count": 9,
     "metadata": {},
     "output_type": "execute_result"
    }
   ],
   "source": [
    "#removendo dados que não sejam do etanol\n",
    "df.drop(df[(df[\"PRODUTO\"] != \"ETANOL\")].index, inplace=True)\n",
    "df"
   ]
  },
  {
   "cell_type": "code",
   "execution_count": 10,
   "id": "e9f9b563",
   "metadata": {
    "execution": {
     "iopub.execute_input": "2022-07-26T15:15:42.677708Z",
     "iopub.status.busy": "2022-07-26T15:15:42.676788Z",
     "iopub.status.idle": "2022-07-26T15:15:42.686403Z",
     "shell.execute_reply": "2022-07-26T15:15:42.685581Z"
    },
    "papermill": {
     "duration": 0.019373,
     "end_time": "2022-07-26T15:15:42.688510",
     "exception": false,
     "start_time": "2022-07-26T15:15:42.669137",
     "status": "completed"
    },
    "tags": []
   },
   "outputs": [
    {
     "data": {
      "text/plain": [
       "2.0566795646916565"
      ]
     },
     "execution_count": 10,
     "metadata": {},
     "output_type": "execute_result"
    }
   ],
   "source": [
    "#calculando a media do preço no brasil entre todos os dados disponíveis\n",
    "media_etanol = np.mean(df.PREÇO)\n",
    "media_etanol"
   ]
  },
  {
   "cell_type": "code",
   "execution_count": 11,
   "id": "59cbb2e0",
   "metadata": {
    "execution": {
     "iopub.execute_input": "2022-07-26T15:15:42.703106Z",
     "iopub.status.busy": "2022-07-26T15:15:42.702413Z",
     "iopub.status.idle": "2022-07-26T15:15:42.711118Z",
     "shell.execute_reply": "2022-07-26T15:15:42.710262Z"
    },
    "papermill": {
     "duration": 0.018487,
     "end_time": "2022-07-26T15:15:42.713303",
     "exception": false,
     "start_time": "2022-07-26T15:15:42.694816",
     "status": "completed"
    },
    "tags": []
   },
   "outputs": [
    {
     "data": {
      "text/plain": [
       "4.073"
      ]
     },
     "execution_count": 11,
     "metadata": {},
     "output_type": "execute_result"
    }
   ],
   "source": [
    "#valor maximo do etanol \n",
    "maximo_etanol = np.amax(df.PREÇO)\n",
    "maximo_etanol"
   ]
  },
  {
   "cell_type": "code",
   "execution_count": 12,
   "id": "10c2eec6",
   "metadata": {
    "execution": {
     "iopub.execute_input": "2022-07-26T15:15:42.728511Z",
     "iopub.status.busy": "2022-07-26T15:15:42.728125Z",
     "iopub.status.idle": "2022-07-26T15:15:42.735980Z",
     "shell.execute_reply": "2022-07-26T15:15:42.734906Z"
    },
    "papermill": {
     "duration": 0.018492,
     "end_time": "2022-07-26T15:15:42.738529",
     "exception": false,
     "start_time": "2022-07-26T15:15:42.720037",
     "status": "completed"
    },
    "tags": []
   },
   "outputs": [
    {
     "data": {
      "text/plain": [
       "0.57"
      ]
     },
     "execution_count": 12,
     "metadata": {},
     "output_type": "execute_result"
    }
   ],
   "source": [
    "#valor minimo do etanol\n",
    "min_etanol = np.amin(df.PREÇO)\n",
    "min_etanol"
   ]
  },
  {
   "cell_type": "code",
   "execution_count": 13,
   "id": "ee4e9e56",
   "metadata": {
    "execution": {
     "iopub.execute_input": "2022-07-26T15:15:42.752763Z",
     "iopub.status.busy": "2022-07-26T15:15:42.752363Z",
     "iopub.status.idle": "2022-07-26T15:15:42.756690Z",
     "shell.execute_reply": "2022-07-26T15:15:42.755539Z"
    },
    "papermill": {
     "duration": 0.014137,
     "end_time": "2022-07-26T15:15:42.759005",
     "exception": false,
     "start_time": "2022-07-26T15:15:42.744868",
     "status": "completed"
    },
    "tags": []
   },
   "outputs": [],
   "source": [
    "#agora vou gerar gráficos com preços em cada região do país"
   ]
  },
  {
   "cell_type": "code",
   "execution_count": 14,
   "id": "4ebb1893",
   "metadata": {
    "execution": {
     "iopub.execute_input": "2022-07-26T15:15:42.774537Z",
     "iopub.status.busy": "2022-07-26T15:15:42.774117Z",
     "iopub.status.idle": "2022-07-26T15:15:50.474142Z",
     "shell.execute_reply": "2022-07-26T15:15:50.473360Z"
    },
    "papermill": {
     "duration": 7.710879,
     "end_time": "2022-07-26T15:15:50.476194",
     "exception": false,
     "start_time": "2022-07-26T15:15:42.765315",
     "status": "completed"
    },
    "tags": []
   },
   "outputs": [
    {
     "data": {
      "text/plain": [
       "Text(0.5, 1.0, 'Preço do Etanol por tempo no Brasil')"
      ]
     },
     "execution_count": 14,
     "metadata": {},
     "output_type": "execute_result"
    },
    {
     "data": {
      "image/png": "[encoded data removed]",
      "text/plain": [
       "<Figure size 432x288 with 1 Axes>"
      ]
     },
     "metadata": {
      "needs_background": "light"
     },
     "output_type": "display_data"
    }
   ],
   "source": [
    "plt.plot(df.DATA, df.PREÇO)\n",
    "plt.title(\"Preço do Etanol por tempo no Brasil\")"
   ]
  },
  {
   "cell_type": "code",
   "execution_count": 15,
   "id": "57bae4ce",
   "metadata": {
    "execution": {
     "iopub.execute_input": "2022-07-26T15:15:50.491937Z",
     "iopub.status.busy": "2022-07-26T15:15:50.491376Z",
     "iopub.status.idle": "2022-07-26T15:15:58.186660Z",
     "shell.execute_reply": "2022-07-26T15:15:58.185572Z"
    },
    "papermill": {
     "duration": 7.70611,
     "end_time": "2022-07-26T15:15:58.189215",
     "exception": false,
     "start_time": "2022-07-26T15:15:50.483105",
     "status": "completed"
    },
    "tags": []
   },
   "outputs": [
    {
     "data": {
      "text/plain": [
       "Text(0.5, 1.0, 'Preço do Etanol por tempo no Centro Oeste')"
      ]
     },
     "execution_count": 15,
     "metadata": {},
     "output_type": "execute_result"
    },
    {
     "data": {
      "image/png": "[encoded data removed]",
      "text/plain": [
       "<Figure size 432x288 with 1 Axes>"
      ]
     },
     "metadata": {
      "needs_background": "light"
     },
     "output_type": "display_data"
    }
   ],
   "source": [
    "df_centrooeste = df.drop(df[(df[\"REGIÃO\"] != \"CENTRO OESTE\")].index)\n",
    "df_centrooeste\n",
    "\n",
    "plt.plot(df_centrooeste.DATA, df_centrooeste.PREÇO)\n",
    "plt.title(\"Preço do Etanol por tempo no Centro Oeste\")"
   ]
  },
  {
   "cell_type": "code",
   "execution_count": 16,
   "id": "6de55390",
   "metadata": {
    "execution": {
     "iopub.execute_input": "2022-07-26T15:15:58.206050Z",
     "iopub.status.busy": "2022-07-26T15:15:58.205441Z",
     "iopub.status.idle": "2022-07-26T15:16:06.011219Z",
     "shell.execute_reply": "2022-07-26T15:16:06.009986Z"
    },
    "papermill": {
     "duration": 7.817157,
     "end_time": "2022-07-26T15:16:06.013768",
     "exception": false,
     "start_time": "2022-07-26T15:15:58.196611",
     "status": "completed"
    },
    "tags": []
   },
   "outputs": [
    {
     "data": {
      "text/plain": [
       "Text(0.5, 1.0, 'Preço do Etanol por tempo no Sul')"
      ]
     },
     "execution_count": 16,
     "metadata": {},
     "output_type": "execute_result"
    },
    {
     "data": {
      "image/png": "[encoded data removed]",
      "text/plain": [
       "<Figure size 432x288 with 1 Axes>"
      ]
     },
     "metadata": {
      "needs_background": "light"
     },
     "output_type": "display_data"
    }
   ],
   "source": [
    "df_sul = df.drop(df[(df[\"REGIÃO\"] != \"SUL\")].index)\n",
    "df_sul\n",
    "\n",
    "plt.plot(df_sul.DATA, df_sul.PREÇO)\n",
    "plt.title(\"Preço do Etanol por tempo no Sul\")"
   ]
  },
  {
   "cell_type": "code",
   "execution_count": 17,
   "id": "ba053963",
   "metadata": {
    "execution": {
     "iopub.execute_input": "2022-07-26T15:16:06.031244Z",
     "iopub.status.busy": "2022-07-26T15:16:06.030871Z",
     "iopub.status.idle": "2022-07-26T15:16:13.900095Z",
     "shell.execute_reply": "2022-07-26T15:16:13.898848Z"
    },
    "papermill": {
     "duration": 7.880987,
     "end_time": "2022-07-26T15:16:13.902624",
     "exception": false,
     "start_time": "2022-07-26T15:16:06.021637",
     "status": "completed"
    },
    "tags": []
   },
   "outputs": [
    {
     "data": {
      "text/plain": [
       "Text(0.5, 1.0, 'Preço do Etanol por tempo no Sudeste')"
      ]
     },
     "execution_count": 17,
     "metadata": {},
     "output_type": "execute_result"
    },
    {
     "data": {
      "image/png": "[encoded data removed]",
      "text/plain": [
       "<Figure size 432x288 with 1 Axes>"
      ]
     },
     "metadata": {
      "needs_background": "light"
     },
     "output_type": "display_data"
    }
   ],
   "source": [
    "df_sudeste = df.drop(df[(df[\"REGIÃO\"] != \"SUDESTE\")].index)\n",
    "df_sudeste\n",
    "\n",
    "plt.plot(df_sudeste.DATA, df_sudeste.PREÇO)\n",
    "plt.title(\"Preço do Etanol por tempo no Sudeste\")"
   ]
  },
  {
   "cell_type": "code",
   "execution_count": 18,
   "id": "907e93d5",
   "metadata": {
    "execution": {
     "iopub.execute_input": "2022-07-26T15:16:13.920700Z",
     "iopub.status.busy": "2022-07-26T15:16:13.920317Z",
     "iopub.status.idle": "2022-07-26T15:16:21.827425Z",
     "shell.execute_reply": "2022-07-26T15:16:21.826253Z"
    },
    "papermill": {
     "duration": 7.919191,
     "end_time": "2022-07-26T15:16:21.830006",
     "exception": false,
     "start_time": "2022-07-26T15:16:13.910815",
     "status": "completed"
    },
    "tags": []
   },
   "outputs": [
    {
     "data": {
      "text/plain": [
       "Text(0.5, 1.0, 'Preço do Etanol por tempo no Norte')"
      ]
     },
     "execution_count": 18,
     "metadata": {},
     "output_type": "execute_result"
    },
    {
     "data": {
      "image/png": "[encoded data removed]",
      "text/plain": [
       "<Figure size 432x288 with 1 Axes>"
      ]
     },
     "metadata": {
      "needs_background": "light"
     },
     "output_type": "display_data"
    }
   ],
   "source": [
    "df_norte = df.drop(df[(df[\"REGIÃO\"] != \"NORTE\")].index)\n",
    "df_norte\n",
    "\n",
    "plt.plot(df_norte.DATA, df_norte.PREÇO)\n",
    "plt.title(\"Preço do Etanol por tempo no Norte\")"
   ]
  },
  {
   "cell_type": "code",
   "execution_count": 19,
   "id": "d2753297",
   "metadata": {
    "execution": {
     "iopub.execute_input": "2022-07-26T15:16:21.850023Z",
     "iopub.status.busy": "2022-07-26T15:16:21.849317Z",
     "iopub.status.idle": "2022-07-26T15:16:29.546296Z",
     "shell.execute_reply": "2022-07-26T15:16:29.545190Z"
    },
    "papermill": {
     "duration": 7.710011,
     "end_time": "2022-07-26T15:16:29.548647",
     "exception": false,
     "start_time": "2022-07-26T15:16:21.838636",
     "status": "completed"
    },
    "tags": []
   },
   "outputs": [
    {
     "data": {
      "text/plain": [
       "Text(0.5, 1.0, 'Preço do Etanol por tempo no nordeste')"
      ]
     },
     "execution_count": 19,
     "metadata": {},
     "output_type": "execute_result"
    },
    {
     "data": {
      "image/png": "[encoded data removed]",
      "text/plain": [
       "<Figure size 432x288 with 1 Axes>"
      ]
     },
     "metadata": {
      "needs_background": "light"
     },
     "output_type": "display_data"
    }
   ],
   "source": [
    "df_nordeste = df.drop(df[(df[\"REGIÃO\"] != \"NORDESTE\")].index)\n",
    "df_nordeste\n",
    "\n",
    "plt.plot(df_nordeste.DATA, df_nordeste.PREÇO)\n",
    "plt.title(\"Preço do Etanol por tempo no nordeste\")"
   ]
  }
 ],
 "metadata": {
  "kernelspec": {
   "display_name": "Python 3",
   "language": "python",
   "name": "python3"
  },
  "language_info": {
   "codemirror_mode": {
    "name": "ipython",
    "version": 3
   },
   "file_extension": ".py",
   "mimetype": "text/x-python",
   "name": "python",
   "nbconvert_exporter": "python",
   "pygments_lexer": "ipython3",
   "version": "3.7.12"
  },
  "papermill": {
   "default_parameters": {},
   "duration": 58.564325,
   "end_time": "2022-07-26T15:16:30.781324",
   "environment_variables": {},
   "exception": null,
   "input_path": "__notebook__.ipynb",
   "output_path": "__notebook__.ipynb",
   "parameters": {},
   "start_time": "2022-07-26T15:15:32.216999",
   "version": "2.3.4"
  }
 },
 "nbformat": 4,
 "nbformat_minor": 5
}
